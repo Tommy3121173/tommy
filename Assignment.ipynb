{
 "cells": [
  {
   "cell_type": "markdown",
   "metadata": {},
   "source": [
    "# Python for Engineers Assignment 2018\n",
    "Answer all questions.\n",
    "<br>すべての質問に答えなさい。\n",
    "\n",
    "Submission deadline 07/16 (July 16).\n",
    "<br>提出締め切り07/16 (7月16日）。\n",
    "\n",
    "Please submit your answer by email.\n",
    "<br>どうぞ、メールによってあなたの答えを提出してください。\n",
    "\n",
    "You may use the following file formats:\n",
    "<br>あなたは以下のファイル形式を使ってもよい:\n",
    "- .py\n",
    "- .ipynb\n",
    "- .txt\n",
    "\n",
    "You may use multiple files.\n",
    "<br>あなたは複数のファイルを使ってもよい。"
   ]
  },
  {
   "cell_type": "markdown",
   "metadata": {},
   "source": [
    "You will be awarded points for:\n",
    "あなたは以下のためのポイントを授与される：\n",
    "- correct solution. 正しい答え。\n",
    "- concise solution. 簡潔な答え。\n",
    "- optimising your code by importing relevant library functions. 外部や基準のライブラリやパッケージを利用します。\n",
    "- writing functions to avoid repetition. 重複を防ぐために関数（functions)を使いなさい。\n",
    "- using comments to explain what your code does. あなたのコードを説明するために、コメントを用いる。"
   ]
  },
  {
   "cell_type": "markdown",
   "metadata": {},
   "source": [
    "## Part A : Data Analysis　データ分析\n",
    "\n",
    "#### Question 1\n",
    "*(2 marks)*<br>\n",
    "Import the data from the url to a Pandas data frame:\n",
    "<br>`Pandas`を使って、以下urlからデータを読み込めよ\n",
    "<br>https://raw.githubusercontent.com/justmarkham/DAT8/master/data/u.user\n"
   ]
  },
  {
   "cell_type": "code",
   "execution_count": 2,
   "metadata": {},
   "outputs": [
    {
     "name": "stdout",
     "output_type": "stream",
     "text": [
      "     user_id  age gender     occupation zip_code\n",
      "0          1   24      M     technician    85711\n",
      "1          2   53      F          other    94043\n",
      "2          3   23      M         writer    32067\n",
      "3          4   24      M     technician    43537\n",
      "4          5   33      F          other    15213\n",
      "5          6   42      M      executive    98101\n",
      "6          7   57      M  administrator    91344\n",
      "7          8   36      M  administrator    05201\n",
      "8          9   29      M        student    01002\n",
      "9         10   53      M         lawyer    90703\n",
      "10        11   39      F          other    30329\n",
      "11        12   28      F          other    06405\n",
      "12        13   47      M       educator    29206\n",
      "13        14   45      M      scientist    55106\n",
      "14        15   49      F       educator    97301\n",
      "15        16   21      M  entertainment    10309\n",
      "16        17   30      M     programmer    06355\n",
      "17        18   35      F          other    37212\n",
      "18        19   40      M      librarian    02138\n",
      "19        20   42      F      homemaker    95660\n",
      "20        21   26      M         writer    30068\n",
      "21        22   25      M         writer    40206\n",
      "22        23   30      F         artist    48197\n",
      "23        24   21      F         artist    94533\n",
      "24        25   39      M       engineer    55107\n",
      "25        26   49      M       engineer    21044\n",
      "26        27   40      F      librarian    30030\n",
      "27        28   32      M         writer    55369\n",
      "28        29   41      M     programmer    94043\n",
      "29        30    7      M        student    55436\n",
      "..       ...  ...    ...            ...      ...\n",
      "913      914   44      F          other    08105\n",
      "914      915   50      M  entertainment    60614\n",
      "915      916   27      M       engineer    N2L5N\n",
      "916      917   22      F        student    20006\n",
      "917      918   40      M      scientist    70116\n",
      "918      919   25      M          other    14216\n",
      "919      920   30      F         artist    90008\n",
      "920      921   20      F        student    98801\n",
      "921      922   29      F  administrator    21114\n",
      "922      923   21      M        student    E2E3R\n",
      "923      924   29      M          other    11753\n",
      "924      925   18      F       salesman    49036\n",
      "925      926   49      M  entertainment    01701\n",
      "926      927   23      M     programmer    55428\n",
      "927      928   21      M        student    55408\n",
      "928      929   44      M      scientist    53711\n",
      "929      930   28      F      scientist    07310\n",
      "930      931   60      M       educator    33556\n",
      "931      932   58      M       educator    06437\n",
      "932      933   28      M        student    48105\n",
      "933      934   61      M       engineer    22902\n",
      "934      935   42      M         doctor    66221\n",
      "935      936   24      M          other    32789\n",
      "936      937   48      M       educator    98072\n",
      "937      938   38      F     technician    55038\n",
      "938      939   26      F        student    33319\n",
      "939      940   32      M  administrator    02215\n",
      "940      941   20      M        student    97229\n",
      "941      942   48      F      librarian    78209\n",
      "942      943   22      M        student    77841\n",
      "\n",
      "[943 rows x 5 columns]\n"
     ]
    }
   ],
   "source": [
    "import pandas as pd\n",
    "url = 'https://raw.githubusercontent.com/justmarkham/DAT8/master/data/u.user'\n",
    "\n",
    "data = pd.read_csv(url, sep = '|')\n",
    "print(data)"
   ]
  },
  {
   "cell_type": "markdown",
   "metadata": {},
   "source": [
    "#### Question 2\n",
    "*(2 marks)*<br>\n",
    "Remove all entries with occupation `other` or `retired` from the data set.\n",
    "<br>職業`occupation`の中に`other`と`retired`に関連するデータを取り除く。\n",
    "\n"
   ]
  },
  {
   "cell_type": "code",
   "execution_count": 3,
   "metadata": {},
   "outputs": [
    {
     "ename": "KeyError",
     "evalue": "'other'",
     "output_type": "error",
     "traceback": [
      "\u001b[1;31m---------------------------------------------------------------------------\u001b[0m",
      "\u001b[1;31mKeyError\u001b[0m                                  Traceback (most recent call last)",
      "\u001b[1;32m~\\Anaconda3\\lib\\site-packages\\pandas\\core\\indexes\\base.py\u001b[0m in \u001b[0;36mget_loc\u001b[1;34m(self, key, method, tolerance)\u001b[0m\n\u001b[0;32m   2524\u001b[0m             \u001b[1;32mtry\u001b[0m\u001b[1;33m:\u001b[0m\u001b[1;33m\u001b[0m\u001b[0m\n\u001b[1;32m-> 2525\u001b[1;33m                 \u001b[1;32mreturn\u001b[0m \u001b[0mself\u001b[0m\u001b[1;33m.\u001b[0m\u001b[0m_engine\u001b[0m\u001b[1;33m.\u001b[0m\u001b[0mget_loc\u001b[0m\u001b[1;33m(\u001b[0m\u001b[0mkey\u001b[0m\u001b[1;33m)\u001b[0m\u001b[1;33m\u001b[0m\u001b[0m\n\u001b[0m\u001b[0;32m   2526\u001b[0m             \u001b[1;32mexcept\u001b[0m \u001b[0mKeyError\u001b[0m\u001b[1;33m:\u001b[0m\u001b[1;33m\u001b[0m\u001b[0m\n",
      "\u001b[1;32mpandas/_libs/index.pyx\u001b[0m in \u001b[0;36mpandas._libs.index.IndexEngine.get_loc\u001b[1;34m()\u001b[0m\n",
      "\u001b[1;32mpandas/_libs/index.pyx\u001b[0m in \u001b[0;36mpandas._libs.index.IndexEngine.get_loc\u001b[1;34m()\u001b[0m\n",
      "\u001b[1;32mpandas/_libs/hashtable_class_helper.pxi\u001b[0m in \u001b[0;36mpandas._libs.hashtable.PyObjectHashTable.get_item\u001b[1;34m()\u001b[0m\n",
      "\u001b[1;32mpandas/_libs/hashtable_class_helper.pxi\u001b[0m in \u001b[0;36mpandas._libs.hashtable.PyObjectHashTable.get_item\u001b[1;34m()\u001b[0m\n",
      "\u001b[1;31mKeyError\u001b[0m: 'other'",
      "\nDuring handling of the above exception, another exception occurred:\n",
      "\u001b[1;31mKeyError\u001b[0m                                  Traceback (most recent call last)",
      "\u001b[1;32m<ipython-input-3-b5d61b1aab15>\u001b[0m in \u001b[0;36m<module>\u001b[1;34m()\u001b[0m\n\u001b[1;32m----> 1\u001b[1;33m \u001b[1;32mdel\u001b[0m \u001b[0mdata\u001b[0m\u001b[1;33m[\u001b[0m\u001b[1;34m\"other\"\u001b[0m\u001b[1;33m]\u001b[0m\u001b[1;33m\u001b[0m\u001b[0m\n\u001b[0m",
      "\u001b[1;32m~\\Anaconda3\\lib\\site-packages\\pandas\\core\\generic.py\u001b[0m in \u001b[0;36m__delitem__\u001b[1;34m(self, key)\u001b[0m\n\u001b[0;32m   2094\u001b[0m             \u001b[1;31m# there was no match, this call should raise the appropriate\u001b[0m\u001b[1;33m\u001b[0m\u001b[1;33m\u001b[0m\u001b[0m\n\u001b[0;32m   2095\u001b[0m             \u001b[1;31m# exception:\u001b[0m\u001b[1;33m\u001b[0m\u001b[1;33m\u001b[0m\u001b[0m\n\u001b[1;32m-> 2096\u001b[1;33m             \u001b[0mself\u001b[0m\u001b[1;33m.\u001b[0m\u001b[0m_data\u001b[0m\u001b[1;33m.\u001b[0m\u001b[0mdelete\u001b[0m\u001b[1;33m(\u001b[0m\u001b[0mkey\u001b[0m\u001b[1;33m)\u001b[0m\u001b[1;33m\u001b[0m\u001b[0m\n\u001b[0m\u001b[0;32m   2097\u001b[0m \u001b[1;33m\u001b[0m\u001b[0m\n\u001b[0;32m   2098\u001b[0m         \u001b[1;31m# delete from the caches\u001b[0m\u001b[1;33m\u001b[0m\u001b[1;33m\u001b[0m\u001b[0m\n",
      "\u001b[1;32m~\\Anaconda3\\lib\\site-packages\\pandas\\core\\internals.py\u001b[0m in \u001b[0;36mdelete\u001b[1;34m(self, item)\u001b[0m\n\u001b[0;32m   3900\u001b[0m         \u001b[0mDelete\u001b[0m \u001b[0mselected\u001b[0m \u001b[0mitem\u001b[0m \u001b[1;33m(\u001b[0m\u001b[0mitems\u001b[0m \u001b[1;32mif\u001b[0m \u001b[0mnon\u001b[0m\u001b[1;33m-\u001b[0m\u001b[0munique\u001b[0m\u001b[1;33m)\u001b[0m \u001b[1;32min\u001b[0m\u001b[1;33m-\u001b[0m\u001b[0mplace\u001b[0m\u001b[1;33m.\u001b[0m\u001b[1;33m\u001b[0m\u001b[0m\n\u001b[0;32m   3901\u001b[0m         \"\"\"\n\u001b[1;32m-> 3902\u001b[1;33m         \u001b[0mindexer\u001b[0m \u001b[1;33m=\u001b[0m \u001b[0mself\u001b[0m\u001b[1;33m.\u001b[0m\u001b[0mitems\u001b[0m\u001b[1;33m.\u001b[0m\u001b[0mget_loc\u001b[0m\u001b[1;33m(\u001b[0m\u001b[0mitem\u001b[0m\u001b[1;33m)\u001b[0m\u001b[1;33m\u001b[0m\u001b[0m\n\u001b[0m\u001b[0;32m   3903\u001b[0m \u001b[1;33m\u001b[0m\u001b[0m\n\u001b[0;32m   3904\u001b[0m         \u001b[0mis_deleted\u001b[0m \u001b[1;33m=\u001b[0m \u001b[0mnp\u001b[0m\u001b[1;33m.\u001b[0m\u001b[0mzeros\u001b[0m\u001b[1;33m(\u001b[0m\u001b[0mself\u001b[0m\u001b[1;33m.\u001b[0m\u001b[0mshape\u001b[0m\u001b[1;33m[\u001b[0m\u001b[1;36m0\u001b[0m\u001b[1;33m]\u001b[0m\u001b[1;33m,\u001b[0m \u001b[0mdtype\u001b[0m\u001b[1;33m=\u001b[0m\u001b[0mnp\u001b[0m\u001b[1;33m.\u001b[0m\u001b[0mbool_\u001b[0m\u001b[1;33m)\u001b[0m\u001b[1;33m\u001b[0m\u001b[0m\n",
      "\u001b[1;32m~\\Anaconda3\\lib\\site-packages\\pandas\\core\\indexes\\base.py\u001b[0m in \u001b[0;36mget_loc\u001b[1;34m(self, key, method, tolerance)\u001b[0m\n\u001b[0;32m   2525\u001b[0m                 \u001b[1;32mreturn\u001b[0m \u001b[0mself\u001b[0m\u001b[1;33m.\u001b[0m\u001b[0m_engine\u001b[0m\u001b[1;33m.\u001b[0m\u001b[0mget_loc\u001b[0m\u001b[1;33m(\u001b[0m\u001b[0mkey\u001b[0m\u001b[1;33m)\u001b[0m\u001b[1;33m\u001b[0m\u001b[0m\n\u001b[0;32m   2526\u001b[0m             \u001b[1;32mexcept\u001b[0m \u001b[0mKeyError\u001b[0m\u001b[1;33m:\u001b[0m\u001b[1;33m\u001b[0m\u001b[0m\n\u001b[1;32m-> 2527\u001b[1;33m                 \u001b[1;32mreturn\u001b[0m \u001b[0mself\u001b[0m\u001b[1;33m.\u001b[0m\u001b[0m_engine\u001b[0m\u001b[1;33m.\u001b[0m\u001b[0mget_loc\u001b[0m\u001b[1;33m(\u001b[0m\u001b[0mself\u001b[0m\u001b[1;33m.\u001b[0m\u001b[0m_maybe_cast_indexer\u001b[0m\u001b[1;33m(\u001b[0m\u001b[0mkey\u001b[0m\u001b[1;33m)\u001b[0m\u001b[1;33m)\u001b[0m\u001b[1;33m\u001b[0m\u001b[0m\n\u001b[0m\u001b[0;32m   2528\u001b[0m \u001b[1;33m\u001b[0m\u001b[0m\n\u001b[0;32m   2529\u001b[0m         \u001b[0mindexer\u001b[0m \u001b[1;33m=\u001b[0m \u001b[0mself\u001b[0m\u001b[1;33m.\u001b[0m\u001b[0mget_indexer\u001b[0m\u001b[1;33m(\u001b[0m\u001b[1;33m[\u001b[0m\u001b[0mkey\u001b[0m\u001b[1;33m]\u001b[0m\u001b[1;33m,\u001b[0m \u001b[0mmethod\u001b[0m\u001b[1;33m=\u001b[0m\u001b[0mmethod\u001b[0m\u001b[1;33m,\u001b[0m \u001b[0mtolerance\u001b[0m\u001b[1;33m=\u001b[0m\u001b[0mtolerance\u001b[0m\u001b[1;33m)\u001b[0m\u001b[1;33m\u001b[0m\u001b[0m\n",
      "\u001b[1;32mpandas/_libs/index.pyx\u001b[0m in \u001b[0;36mpandas._libs.index.IndexEngine.get_loc\u001b[1;34m()\u001b[0m\n",
      "\u001b[1;32mpandas/_libs/index.pyx\u001b[0m in \u001b[0;36mpandas._libs.index.IndexEngine.get_loc\u001b[1;34m()\u001b[0m\n",
      "\u001b[1;32mpandas/_libs/hashtable_class_helper.pxi\u001b[0m in \u001b[0;36mpandas._libs.hashtable.PyObjectHashTable.get_item\u001b[1;34m()\u001b[0m\n",
      "\u001b[1;32mpandas/_libs/hashtable_class_helper.pxi\u001b[0m in \u001b[0;36mpandas._libs.hashtable.PyObjectHashTable.get_item\u001b[1;34m()\u001b[0m\n",
      "\u001b[1;31mKeyError\u001b[0m: 'other'"
     ]
    }
   ],
   "source": [
    "del data[\"other\"]"
   ]
  },
  {
   "cell_type": "markdown",
   "metadata": {},
   "source": [
    "#### Question 3\n",
    "*(6 marks)*<br>\n",
    "Plot a bar chart showing:\n",
    "<br>棒グラフをプロットしなさい：\n",
    "- the number of people per occupation for the 10 occupations that occur most frequently in the data set.\n",
    "<br>取り除かない各職業の総人数を計算し、総人数最も多い10つの職業を取り出し、各職業の総人数を棒グラフで書きなさい。\n",
    "- plot an additional bar, labelled other, showing the sum of all remaining entries in the data set.\n",
    "<br>その以外の職業の人数をまとめて、`other`という名前を付け、同じ棒グラフに書きなさい。\n",
    "\n"
   ]
  },
  {
   "cell_type": "code",
   "execution_count": null,
   "metadata": {},
   "outputs": [],
   "source": []
  },
  {
   "cell_type": "markdown",
   "metadata": {},
   "source": [
    "#### Question 4\n",
    "*(2 marks)*<br>\n",
    "Find the:\n",
    "- mean \n",
    "- standard deviaion \n",
    "\n",
    "of the age of people with the occupation: `administrator`.\n",
    "\n",
    "<br>`administrator`という職業`occupation`の人達を見つけ出す。その人達の年齢の\n",
    "- 平均値\n",
    "- 標準偏差\n",
    "\n",
    "を求めよ。"
   ]
  },
  {
   "cell_type": "code",
   "execution_count": null,
   "metadata": {},
   "outputs": [],
   "source": []
  },
  {
   "cell_type": "markdown",
   "metadata": {},
   "source": [
    "## Part B : Movement of a Particle 粒子の動き\n",
    "\n",
    "A particle moves along a curve.\n",
    "<br>粒子がある軌跡を沿って移動する。\n",
    "\n",
    "The cartesian coordinates of the position of the particle $(r_x, r_y)$ are: \n",
    "<br>粒子の位置$（r_x、r_y）$は時間$t$の変数である。その式は以下：\n",
    "\n",
    "\\begin{align}\n",
    "r_x &= \\exp \\left( -\\dfrac{t}{T_1} \\right) \n",
    "\\\\\n",
    "r_y &= 2 \\cos \\left(\\dfrac{t}{T_2}\\right)\n",
    "\\end{align}\n",
    "\n",
    "$t$ = time (s)\n",
    "\n",
    "Constants:　その中に、$T$は定数\n",
    "<br>$T_1 = 1$ s \n",
    "<br>$T_2 = 1/3$ s. \n",
    "\n",
    "#### Question 1\n",
    "*(8 marks)*\n",
    "\n",
    "Plot the trajectory of the particle in the $xy$-plane over the time interval $t = 0$ to $t = 2\\pi$ s. \n",
    "<br>時間$t=0$から$t=2\\pi$までの粒子の軌跡を書きなさい。軌跡を表す点の数は任意。\n",
    "\n",
    "On the graph, show the particle’s locations at $t = 0$, $\\pi/2$ and $2\\pi$ using:\n",
    "<br>同じ図に、以下のものを使って、$t=0$、$t=\\pi／2$と$t=2\\pi$の粒子の位置を強調せよ：\n",
    "- a marker \n",
    "- a label \n",
    "\n"
   ]
  },
  {
   "cell_type": "code",
   "execution_count": null,
   "metadata": {},
   "outputs": [],
   "source": []
  },
  {
   "cell_type": "markdown",
   "metadata": {},
   "source": [
    "#### Question 2\n",
    "\n",
    "The $x$ and $y$ components of the particle's acceleration $(a_x, a_y)$:\n",
    "<br>粒子の加速度$（a_x、a_y）$はの粒子の位置$（r_x、r_y）$の二階微分である：\n",
    "\n",
    "$$a_x=v_x'=r_x''$$\n",
    "$$a_y=v_y'=r_y''$$ \n",
    "\n",
    "velocity $(v_x, v_y)$\n",
    "<br>速度$(v_x, v_y)$\n",
    "\n",
    "__(a)__ Express the particles acceleration $(a_x、a_y)$ symbolically, i.e. show the equation. \n",
    "<br>粒子加速度$（a_x、a_y）$を計算せよ。方程式を示す。\n",
    "<br>*(5 marks)*<br>\n",
    "\n",
    "\n"
   ]
  },
  {
   "cell_type": "code",
   "execution_count": null,
   "metadata": {},
   "outputs": [],
   "source": []
  },
  {
   "cell_type": "markdown",
   "metadata": {},
   "source": [
    "__(b)__ Plot the *magnitude* of the acceleration of the particle against time over the time interval $t = 0$ to $t = 2\\pi$ s.\n",
    "<br>時間$t=0$から$t=2\\pi$までの粒子の加速度の絶対値（マグニチュード加速度）を計算し、時間$t$に対する図を書きなさい。つまり、X軸は時間$t$、Y軸は加速度の絶対値。絶対値の式は以下\n",
    "<br>*(5 marks)*<br>\n",
    "\n",
    "The magnitude of acceleration, $A$:\n",
    "$$A = \\sqrt{a_x^2 + a_y^2}$$\n",
    "\n"
   ]
  },
  {
   "cell_type": "code",
   "execution_count": null,
   "metadata": {},
   "outputs": [],
   "source": []
  },
  {
   "cell_type": "markdown",
   "metadata": {},
   "source": [
    "#### Question 3\n",
    "__(a)__\n",
    "Find the magnitude velocity of the particle at time $ t = 1$s.\n",
    "<br>$t=1$時刻の粒子の速度の絶対値（マグニチュード速度）を見つけ出す。\n",
    "<br>*(5 marks)*<br>"
   ]
  },
  {
   "cell_type": "code",
   "execution_count": null,
   "metadata": {},
   "outputs": [],
   "source": []
  },
  {
   "cell_type": "markdown",
   "metadata": {},
   "source": [
    "__(b)__\n",
    "Estimate the time/times when $r_y=0$\n",
    "<br>$r_y=0$を満足する時間（時間達）を逆計算せよ。\n",
    "<br>*(5 marks)*<br>"
   ]
  },
  {
   "cell_type": "code",
   "execution_count": null,
   "metadata": {},
   "outputs": [],
   "source": []
  },
  {
   "cell_type": "markdown",
   "metadata": {},
   "source": [
    "#### Question 4 \n",
    "*(10 marks)*<br>\n",
    "Animate the trajectory of the particle and save your work as a .mp4 file.\n",
    "<br>粒子の移動軌跡をアニメーション化し、.mp4ファイルとして保存しなさい。"
   ]
  },
  {
   "cell_type": "code",
   "execution_count": null,
   "metadata": {},
   "outputs": [],
   "source": []
  }
 ],
 "metadata": {
  "kernelspec": {
   "display_name": "Python 3",
   "language": "python",
   "name": "python3"
  },
  "language_info": {
   "codemirror_mode": {
    "name": "ipython",
    "version": 3
   },
   "file_extension": ".py",
   "mimetype": "text/x-python",
   "name": "python",
   "nbconvert_exporter": "python",
   "pygments_lexer": "ipython3",
   "version": "3.6.4"
  }
 },
 "nbformat": 4,
 "nbformat_minor": 2
}
