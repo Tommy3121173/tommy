{
 "cells": [
  {
   "cell_type": "markdown",
   "metadata": {},
   "source": [
    "# Python for Engineers Assignment 2018\n",
    "Answer all questions.\n",
    "<br>すべての質問に答えなさい。\n",
    "\n",
    "Submission deadline 07/16 (July 16).\n",
    "<br>提出締め切り07/16 (7月16日）。\n",
    "\n",
    "Please submit your answer by email.\n",
    "<br>どうぞ、メールによってあなたの答えを提出してください。\n",
    "\n",
    "You may use the following file formats:\n",
    "<br>あなたは以下のファイル形式を使ってもよい:\n",
    "- .py\n",
    "- .ipynb\n",
    "- .txt\n",
    "\n",
    "You may use multiple files.\n",
    "<br>あなたは複数のファイルを使ってもよい。"
   ]
  },
  {
   "cell_type": "markdown",
   "metadata": {},
   "source": [
    "You will be awarded points for:\n",
    "あなたは以下のためのポイントを授与される：\n",
    "- correct solution. 正しい答え。\n",
    "- concise solution. 簡潔な答え。\n",
    "- optimising your code by importing relevant library functions. 外部や基準のライブラリやパッケージを利用します。\n",
    "- writing functions to avoid repetition. 重複を防ぐために関数（functions)を使いなさい。\n",
    "- using comments to explain what your code does. あなたのコードを説明するために、コメントを用いる。"
   ]
  },
  {
   "cell_type": "markdown",
   "metadata": {},
   "source": [
    "## Part A : Data Analysis　データ分析\n",
    "\n",
    "#### Question 1\n",
    "*(2 marks)*<br>\n",
    "Import the data from the url to a Pandas data frame:\n",
    "<br>`Pandas`を使って、以下urlからデータを読み込めよ\n",
    "<br>https://raw.githubusercontent.com/justmarkham/DAT8/master/data/u.user\n"
   ]
  },
  {
   "cell_type": "code",
   "execution_count": 1,
   "metadata": {},
   "outputs": [
    {
     "name": "stdout",
     "output_type": "stream",
     "text": [
      "     user_id  age gender     occupation zip_code\n",
      "0          1   24      M     technician    85711\n",
      "1          2   53      F          other    94043\n",
      "2          3   23      M         writer    32067\n",
      "3          4   24      M     technician    43537\n",
      "4          5   33      F          other    15213\n",
      "5          6   42      M      executive    98101\n",
      "6          7   57      M  administrator    91344\n",
      "7          8   36      M  administrator    05201\n",
      "8          9   29      M        student    01002\n",
      "9         10   53      M         lawyer    90703\n",
      "10        11   39      F          other    30329\n",
      "11        12   28      F          other    06405\n",
      "12        13   47      M       educator    29206\n",
      "13        14   45      M      scientist    55106\n",
      "14        15   49      F       educator    97301\n",
      "15        16   21      M  entertainment    10309\n",
      "16        17   30      M     programmer    06355\n",
      "17        18   35      F          other    37212\n",
      "18        19   40      M      librarian    02138\n",
      "19        20   42      F      homemaker    95660\n",
      "20        21   26      M         writer    30068\n",
      "21        22   25      M         writer    40206\n",
      "22        23   30      F         artist    48197\n",
      "23        24   21      F         artist    94533\n",
      "24        25   39      M       engineer    55107\n",
      "25        26   49      M       engineer    21044\n",
      "26        27   40      F      librarian    30030\n",
      "27        28   32      M         writer    55369\n",
      "28        29   41      M     programmer    94043\n",
      "29        30    7      M        student    55436\n",
      "..       ...  ...    ...            ...      ...\n",
      "913      914   44      F          other    08105\n",
      "914      915   50      M  entertainment    60614\n",
      "915      916   27      M       engineer    N2L5N\n",
      "916      917   22      F        student    20006\n",
      "917      918   40      M      scientist    70116\n",
      "918      919   25      M          other    14216\n",
      "919      920   30      F         artist    90008\n",
      "920      921   20      F        student    98801\n",
      "921      922   29      F  administrator    21114\n",
      "922      923   21      M        student    E2E3R\n",
      "923      924   29      M          other    11753\n",
      "924      925   18      F       salesman    49036\n",
      "925      926   49      M  entertainment    01701\n",
      "926      927   23      M     programmer    55428\n",
      "927      928   21      M        student    55408\n",
      "928      929   44      M      scientist    53711\n",
      "929      930   28      F      scientist    07310\n",
      "930      931   60      M       educator    33556\n",
      "931      932   58      M       educator    06437\n",
      "932      933   28      M        student    48105\n",
      "933      934   61      M       engineer    22902\n",
      "934      935   42      M         doctor    66221\n",
      "935      936   24      M          other    32789\n",
      "936      937   48      M       educator    98072\n",
      "937      938   38      F     technician    55038\n",
      "938      939   26      F        student    33319\n",
      "939      940   32      M  administrator    02215\n",
      "940      941   20      M        student    97229\n",
      "941      942   48      F      librarian    78209\n",
      "942      943   22      M        student    77841\n",
      "\n",
      "[943 rows x 5 columns]\n"
     ]
    }
   ],
   "source": [
    "import pandas as pd\n",
    "url = 'https://raw.githubusercontent.com/justmarkham/DAT8/master/data/u.user'\n",
    "#Import the data\n",
    "data = pd.read_csv(url, sep = '|')\n",
    "#Check if I could import the data\n",
    "print(data)"
   ]
  },
  {
   "cell_type": "markdown",
   "metadata": {},
   "source": [
    "#### Question 2\n",
    "*(2 marks)*<br>\n",
    "Remove all entries with occupation `other` or `retired` from the data set.\n",
    "<br>職業`occupation`の中に`other`と`retired`に関連するデータを取り除く。\n",
    "\n"
   ]
  },
  {
   "cell_type": "code",
   "execution_count": 2,
   "metadata": {
    "scrolled": true
   },
   "outputs": [
    {
     "name": "stdout",
     "output_type": "stream",
     "text": [
      "     user_id  age gender     occupation zip_code\n",
      "0          1   24      M     technician    85711\n",
      "2          3   23      M         writer    32067\n",
      "3          4   24      M     technician    43537\n",
      "5          6   42      M      executive    98101\n",
      "6          7   57      M  administrator    91344\n",
      "7          8   36      M  administrator    05201\n",
      "8          9   29      M        student    01002\n",
      "9         10   53      M         lawyer    90703\n",
      "12        13   47      M       educator    29206\n",
      "13        14   45      M      scientist    55106\n",
      "14        15   49      F       educator    97301\n",
      "15        16   21      M  entertainment    10309\n",
      "16        17   30      M     programmer    06355\n",
      "18        19   40      M      librarian    02138\n",
      "19        20   42      F      homemaker    95660\n",
      "20        21   26      M         writer    30068\n",
      "21        22   25      M         writer    40206\n",
      "22        23   30      F         artist    48197\n",
      "23        24   21      F         artist    94533\n",
      "24        25   39      M       engineer    55107\n",
      "25        26   49      M       engineer    21044\n",
      "26        27   40      F      librarian    30030\n",
      "27        28   32      M         writer    55369\n",
      "28        29   41      M     programmer    94043\n",
      "29        30    7      M        student    55436\n",
      "30        31   24      M         artist    10003\n",
      "31        32   28      F        student    78741\n",
      "32        33   23      M        student    27510\n",
      "33        34   38      F  administrator    42141\n",
      "34        35   20      F      homemaker    42459\n",
      "..       ...  ...    ...            ...      ...\n",
      "908      909   50      F       educator    53171\n",
      "909      910   28      M     healthcare    29301\n",
      "910      911   37      F         writer    53210\n",
      "912      913   27      M        student    76201\n",
      "914      915   50      M  entertainment    60614\n",
      "915      916   27      M       engineer    N2L5N\n",
      "916      917   22      F        student    20006\n",
      "917      918   40      M      scientist    70116\n",
      "919      920   30      F         artist    90008\n",
      "920      921   20      F        student    98801\n",
      "921      922   29      F  administrator    21114\n",
      "922      923   21      M        student    E2E3R\n",
      "924      925   18      F       salesman    49036\n",
      "925      926   49      M  entertainment    01701\n",
      "926      927   23      M     programmer    55428\n",
      "927      928   21      M        student    55408\n",
      "928      929   44      M      scientist    53711\n",
      "929      930   28      F      scientist    07310\n",
      "930      931   60      M       educator    33556\n",
      "931      932   58      M       educator    06437\n",
      "932      933   28      M        student    48105\n",
      "933      934   61      M       engineer    22902\n",
      "934      935   42      M         doctor    66221\n",
      "936      937   48      M       educator    98072\n",
      "937      938   38      F     technician    55038\n",
      "938      939   26      F        student    33319\n",
      "939      940   32      M  administrator    02215\n",
      "940      941   20      M        student    97229\n",
      "941      942   48      F      librarian    78209\n",
      "942      943   22      M        student    77841\n",
      "\n",
      "[824 rows x 5 columns]\n"
     ]
    }
   ],
   "source": [
    "A = data.index[(data.occupation == 'other')] \n",
    "B = data.index[(data.occupation == 'retired')]\n",
    "#remove all entries with occupation 'other'\n",
    "data.drop(index = A.tolist(),inplace = True)\n",
    "#remove all entries with occupation 'retired'\n",
    "data.drop(index = B.tolist(),inplace =True)\n",
    "print(data)"
   ]
  },
  {
   "cell_type": "markdown",
   "metadata": {},
   "source": [
    "#### Question 3\n",
    "*(6 marks)*<br>\n",
    "Plot a bar chart showing:\n",
    "<br>棒グラフをプロットしなさい：\n",
    "- the number of people per occupation for the 10 occupations that occur most frequently in the data set.\n",
    "<br>取り除かない各職業の総人数を計算し、総人数最も多い10つの職業を取り出し、各職業の総人数を棒グラフで書きなさい。\n",
    "- plot an additional bar, labelled other, showing the sum of all remaining entries in the data set.\n",
    "<br>その以外の職業の人数をまとめて、`other`という名前を付け、同じ棒グラフに書きなさい。\n",
    "\n"
   ]
  },
  {
   "cell_type": "code",
   "execution_count": 3,
   "metadata": {
    "scrolled": true
   },
   "outputs": [],
   "source": [
    "import matplotlib.pyplot as plt\n",
    "import numpy as np\n",
    "#check what kinds of occupation there are in the data\n",
    "A1 = data.drop_duplicates(\"occupation\")\n",
    "#make a list of the number of each occupation\n",
    "new_list = []\n",
    "for raw in A1[\"occupation\"]:\n",
    "    A = len(data[data['occupation'] == raw]['occupation'])\n",
    "    new_list.append(A)\n",
    "\n",
    "#make a list of all occupations \n",
    "B = list(A1['occupation'])\n",
    "#make an array of occupations and the number\n",
    "B1 = np.array([B,new_list])\n",
    "#rearrange the array in descending order\n",
    "B2 = B1[:, np.argsort(new_list)[::-1]]\n",
    "#make a list of 10 occupations and 'other'\n",
    "C1 = B2[:,:10]\n",
    "P = list(C1[0])\n",
    "P.append('other')\n",
    "#make a list of the number of 11 occupations \n",
    "C2 = B2[:,10:]\n",
    "D1 = list(map(int,C2[1]))\n",
    "Q = list(map(int,C1[1]))\n",
    "Q.append(sum(D1))\n",
    "\n",
    "# Create an array with the position of each bar along the x-axis\n",
    "x_pos = np.arange(len(P))\n",
    "# Produce bar plot\n",
    "plt.bar(x_pos, Q);\n",
    "\n",
    "# Replace the x ticks with P\n",
    "# Rotate labels 90 degrees\n",
    "plt.xticks(x_pos, P, rotation=90);\n",
    "# Add axis labels \n",
    "plt.xlabel('occupation');\n",
    "plt.ylabel('number of people');\n"
   ]
  },
  {
   "cell_type": "markdown",
   "metadata": {},
   "source": [
    "#### Question 4\n",
    "*(2 marks)*<br>\n",
    "Find the:\n",
    "- mean \n",
    "- standard deviaion \n",
    "\n",
    "of the age of people with the occupation: `administrator`.\n",
    "\n",
    "<br>`administrator`という職業`occupation`の人達を見つけ出す。その人達の年齢の\n",
    "- 平均値\n",
    "- 標準偏差\n",
    "\n",
    "を求めよ。"
   ]
  },
  {
   "cell_type": "code",
   "execution_count": 4,
   "metadata": {},
   "outputs": [
    {
     "name": "stdout",
     "output_type": "stream",
     "text": [
      "38.74683544303797\n",
      "11.123396864533204\n"
     ]
    }
   ],
   "source": [
    "#make a data of only administrator\n",
    "for raw in data[\"occupation\"]:\n",
    "    P = data[data['occupation'] == \"administrator\"]\n",
    "#find the mean\n",
    "print(P.iloc[:, 1].mean())\n",
    "#find the standard deviation\n",
    "print(P.iloc[:, 1].std())"
   ]
  },
  {
   "cell_type": "markdown",
   "metadata": {},
   "source": [
    "## Part B : Movement of a Particle 粒子の動き\n",
    "\n",
    "A particle moves along a curve.\n",
    "<br>粒子がある軌跡を沿って移動する。\n",
    "\n",
    "The cartesian coordinates of the position of the particle $(r_x, r_y)$ are: \n",
    "<br>粒子の位置$（r_x、r_y）$は時間$t$の変数である。その式は以下：\n",
    "\n",
    "\\begin{align}\n",
    "r_x &= \\exp \\left( -\\dfrac{t}{T_1} \\right) \n",
    "\\\\\n",
    "r_y &= 2 \\cos \\left(\\dfrac{t}{T_2}\\right)\n",
    "\\end{align}\n",
    "\n",
    "$t$ = time (s)\n",
    "\n",
    "Constants:　その中に、$T$は定数\n",
    "<br>$T_1 = 1$ s \n",
    "<br>$T_2 = 1/3$ s. \n",
    "\n",
    "#### Question 1\n",
    "*(8 marks)*\n",
    "\n",
    "Plot the trajectory of the particle in the $xy$-plane over the time interval $t = 0$ to $t = 2\\pi$ s. \n",
    "<br>時間$t=0$から$t=2\\pi$までの粒子の軌跡を書きなさい。軌跡を表す点の数は任意。\n",
    "\n",
    "On the graph, show the particle’s locations at $t = 0$, $\\pi/2$ and $2\\pi$ using:\n",
    "<br>同じ図に、以下のものを使って、$t=0$、$t=\\pi／2$と$t=2\\pi$の粒子の位置を強調せよ：\n",
    "- a marker \n",
    "- a label \n",
    "\n"
   ]
  },
  {
   "cell_type": "code",
   "execution_count": 5,
   "metadata": {},
   "outputs": [
    {
     "data": {
      "text/plain": [
       "Text(0,0.5,'ry')"
      ]
     },
     "execution_count": 5,
     "metadata": {},
     "output_type": "execute_result"
    },
    {
     "data": {
      "image/png": "[encoded data removed]",
      "text/plain": [
       "<matplotlib.figure.Figure at 0x1c8f32724e0>"
      ]
     },
     "metadata": {},
     "output_type": "display_data"
    }
   ],
   "source": [
    "import sympy as sp\n",
    "import numpy as np\n",
    "import matplotlib.pyplot as plt\n",
    "%matplotlib inline\n",
    "#define the constants\n",
    "e = np.e\n",
    "T1 = 1\n",
    "T2 = 1/3\n",
    "# define the functions\n",
    "def rx(t):\n",
    "    return e**(-t/T1)\n",
    "def ry(t) :\n",
    "    return 2*np.cos(t/T2)\n",
    "#define the time span\n",
    "tspan = np.linspace(0,2*np.pi,100)\n",
    "#plotting\n",
    "plt.plot(rx(tspan),ry(tspan),label='the trajectory of the particle')\n",
    "#plot the point of particle locations at t=0,pi/2,and 2*pi\n",
    "plt.plot(rx(0),ry(0),'ro')\n",
    "plt.plot(rx(np.pi/2),ry(np.pi/2),'ro')\n",
    "plt.plot(rx(2*np.pi),ry(2*np.pi),'ro')\n",
    "## Axes labels\n",
    "plt.xlabel('rx')\n",
    "plt.ylabel('ry')"
   ]
  },
  {
   "cell_type": "markdown",
   "metadata": {},
   "source": [
    "#### Question 2\n",
    "\n",
    "The $x$ and $y$ components of the particle's acceleration $(a_x, a_y)$:\n",
    "<br>粒子の加速度$（a_x、a_y）$はの粒子の位置$（r_x、r_y）$の二階微分である：\n",
    "\n",
    "$$a_x=v_x'=r_x''$$\n",
    "$$a_y=v_y'=r_y''$$ \n",
    "\n",
    "velocity $(v_x, v_y)$\n",
    "<br>速度$(v_x, v_y)$\n",
    "\n",
    "__(a)__ Express the particles acceleration $(a_x、a_y)$ symbolically, i.e. show the equation. \n",
    "<br>粒子加速度$（a_x、a_y）$を計算せよ。方程式を示す。\n",
    "<br>*(5 marks)*<br>\n",
    "\n",
    "\n"
   ]
  },
  {
   "cell_type": "code",
   "execution_count": 6,
   "metadata": {},
   "outputs": [
    {
     "name": "stdout",
     "output_type": "stream",
     "text": [
      "ax = 1.0*2.71828182845905**(-t)\n",
      "ay = -18.0*cos(3.0*t)\n"
     ]
    }
   ],
   "source": [
    "from sympy import diff,symbols,Symbol\n",
    "import sympy as sp\n",
    "#define t\n",
    "t = Symbol('t')\n",
    "#difine the functions again \n",
    "def ry(t) :\n",
    "    return 2*sp.cos(t/T2)\n",
    "def ax(t):\n",
    "    return diff(rx(t), t, 2)\n",
    "def ay(t):\n",
    "    return diff(ry(t),t,2)\n",
    "\n",
    "print('ax =',ax(t))\n",
    "print('ay =',ay(t))"
   ]
  },
  {
   "cell_type": "markdown",
   "metadata": {},
   "source": [
    "__(b)__ Plot the *magnitude* of the acceleration of the particle against time over the time interval $t = 0$ to $t = 2\\pi$ s.\n",
    "<br>時間$t=0$から$t=2\\pi$までの粒子の加速度の絶対値（マグニチュード加速度）を計算し、時間$t$に対する図を書きなさい。つまり、X軸は時間$t$、Y軸は加速度の絶対値。絶対値の式は以下\n",
    "<br>*(5 marks)*<br>\n",
    "\n",
    "The magnitude of acceleration, $A$:\n",
    "$$A = \\sqrt{a_x^2 + a_y^2}$$\n",
    "\n"
   ]
  },
  {
   "cell_type": "code",
   "execution_count": 7,
   "metadata": {},
   "outputs": [
    {
     "data": {
      "image/png": "[encoded data removed]",
      "text/plain": [
       "<matplotlib.figure.Figure at 0x1c8ef69fa90>"
      ]
     },
     "metadata": {},
     "output_type": "display_data"
    },
    {
     "data": {
      "text/plain": [
       "<sympy.plotting.plot.Plot at 0x1c8ef69fba8>"
      ]
     },
     "execution_count": 7,
     "metadata": {},
     "output_type": "execute_result"
    }
   ],
   "source": [
    "#define the function\n",
    "def A(t):\n",
    "    return sp.sqrt(ax(t)**2 + ay(t)**2)\n",
    "#plotting\n",
    "sp.plot(A(t), (t, 0, 2*sp.pi))"
   ]
  },
  {
   "cell_type": "markdown",
   "metadata": {},
   "source": [
    "##### Question 3\n",
    "__(a)__\n",
    "Find the magnitude velocity of the particle at time $ t = 1$s.\n",
    "<br>$t=1$時刻の粒子の速度の絶対値（マグニチュード速度）を見つけ出す。\n",
    "<br>*(5 marks)*<br>"
   ]
  },
  {
   "cell_type": "code",
   "execution_count": 8,
   "metadata": {},
   "outputs": [
    {
     "name": "stdout",
     "output_type": "stream",
     "text": [
      "17.8236618493674\n"
     ]
    }
   ],
   "source": [
    "print(A(t).subs(t,1))"
   ]
  },
  {
   "cell_type": "markdown",
   "metadata": {},
   "source": [
    "__(b)__\n",
    "Estimate the time/times when $r_y=0$\n",
    "<br>$r_y=0$を満足する時間（時間達）を逆計算せよ。\n",
    "<br>*(5 marks)*<br>"
   ]
  },
  {
   "cell_type": "code",
   "execution_count": 9,
   "metadata": {},
   "outputs": [
    {
     "name": "stdout",
     "output_type": "stream",
     "text": [
      "[0.523598775598299, 1.57079632679490]\n"
     ]
    }
   ],
   "source": [
    "from sympy import solve\n",
    "solution = solve(ry(t),t)\n",
    "print(solution)"
   ]
  },
  {
   "cell_type": "markdown",
   "metadata": {},
   "source": [
    "#### Question 4 \n",
    "*(10 marks)*<br>\n",
    "Animate the trajectory of the particle and save your work as a .mp4 file.\n",
    "<br>粒子の移動軌跡をアニメーション化し、.mp4ファイルとして保存しなさい。"
   ]
  },
  {
   "cell_type": "code",
   "execution_count": 10,
   "metadata": {},
   "outputs": [
    {
     "data": {
      "image/png": "[encoded data removed]",
      "text/plain": [
       "<matplotlib.figure.Figure at 0x1c8f34f7fd0>"
      ]
     },
     "metadata": {},
     "output_type": "display_data"
    }
   ],
   "source": [
    "try:\n",
    "    import ipywidgets\n",
    "except ImportError:\n",
    "    try:\n",
    "        !{sys.executable} -m pip -q install ipywidgets\n",
    "        import ipywidgets\n",
    "    except ImportError:\n",
    "        !{sys.executable} -m pip -q --user install ipywidgets\n",
    "    finally:\n",
    "        !jupyter nbextension enable --py widgetsnbextension\n",
    "        print(\"You will need to refresh your browser page\")        \n",
    "from ipywidgets import interact\n",
    "\n",
    "from matplotlib import animation, rc\n",
    "from IPython.display import HTML\n",
    "import matplotlib.pyplot as plt\n",
    "import matplotlib.animation as animation\n",
    "import numpy as np\n",
    "\n",
    "# Creates a figure window.\n",
    "fig = plt.figure()\n",
    "\n",
    "# Creates axes within the window\n",
    "ax = plt.axes(xlim=(0, 1), ylim=(-2,2))\n",
    "\n",
    "# Object to animate\n",
    "point, = ax.plot([1], [1], marker='o', ms=40)  # for points\n",
    "\n",
    "e =np.e\n",
    "T1 = 1\n",
    "T2 = 1/3\n",
    "\n",
    "# Position of mass as function of time\n",
    "def fun(s):\n",
    "    x = e**(-s/T1)\n",
    "    y =2*np.cos(s/T2)\n",
    "    return x, y\n",
    "\n",
    "def animate(i):   \n",
    "    x, y = fun(i/10)   \n",
    "    point.set_data(x, y)    \n",
    "    return  (point,)\n",
    "    \n",
    "# Animates the data\n",
    "anim = animation.FuncAnimation(fig, animate, frames=30, interval=50, blit=True)\n",
    "\n",
    "anim\n",
    "writer = animation.writers['ffmpeg'](fps=15,bitrate=1800)\n",
    "anim.save('the_trajectory_of_the_particle.mp4',writer = writer)"
   ]
  },
  {
   "cell_type": "code",
   "execution_count": null,
   "metadata": {},
   "outputs": [],
   "source": []
  }
 ],
 "metadata": {
  "kernelspec": {
   "display_name": "Python 3",
   "language": "python",
   "name": "python3"
  },
  "language_info": {
   "codemirror_mode": {
    "name": "ipython",
    "version": 3
   },
   "file_extension": ".py",
   "mimetype": "text/x-python",
   "name": "python",
   "nbconvert_exporter": "python",
   "pygments_lexer": "ipython3",
   "version": "3.6.4"
  }
 },
 "nbformat": 4,
 "nbformat_minor": 2
}
